{
 "cells": [
  {
   "cell_type": "markdown",
   "metadata": {},
   "source": [
    "\n",
    "## Q-Learning Example: \n",
    "Find shortest number of steps to user defined goal node (simple shortest path problem) from selected start node.\n",
    "\n",
    "<img src=\"http://mnemstudio.org/ai/path/images/map1a.gif\">\n",
    "\n",
    "In this image the start node is 2 and goal node is 5"
   ]
  },
  {
   "cell_type": "code",
   "execution_count": 9,
   "metadata": {},
   "outputs": [],
   "source": [
    "import numpy as np"
   ]
  },
  {
   "cell_type": "code",
   "execution_count": 10,
   "metadata": {},
   "outputs": [],
   "source": [
    "def init_reward_matrix(goal_state=5, initial_goal_reward=100):\n",
    "    \n",
    "    global R\n",
    "    # Reward matrix\n",
    "    # each row is a state, col is a destination node\n",
    "    # -1 is marked \"null\" move and can't be taken\n",
    "    R = np.asmatrix([[-1, -1, -1, -1,  0, -1], # 0 can take action 4\n",
    "                     [-1, -1, -1,  0, -1,  0], # 1 can take action 3, 5\n",
    "                     [-1, -1, -1,  0, -1, -1], # 2 can take action 3\n",
    "                     [-1,  0,  0, -1,  0, -1], # 3 can take action 1, 4\n",
    "                     [ 0,  -1, -1, 0, -1,  0], # 4 can take action 0, 3, 5\n",
    "                     [-1,  0, -1, -1,  0,  -1] # 5 can take action 1, 4\n",
    "                    ])\n",
    "    \n",
    "    # add reward for 1-length path moves to goal (e.g. 100)\n",
    "    for (row_idx, col_idx), reward in np.ndenumerate(R):\n",
    "        if col_idx == goal_state and reward != -1:\n",
    "            R[row_idx, col_idx] = initial_goal_reward\n",
    "        \n",
    "        # Make action of moving from goal to goal possible/desirable\n",
    "        if row_idx == goal_state and col_idx == goal_state:\n",
    "            R[row_idx, col_idx] = initial_goal_reward\n",
    "    \n",
    "    print(f\"Reward matrix with goal_state {goal_state}: \\n {R}\\n\")"
   ]
  },
  {
   "cell_type": "code",
   "execution_count": 36,
   "metadata": {},
   "outputs": [],
   "source": [
    "# Return all available actions for a given state\n",
    "def available_actions(state):\n",
    "    current_state_row = R[state,]\n",
    "    actions = np.where(current_state_row != -1)[1]\n",
    "    return actions\n",
    "\n",
    "# Updates the Q-values\n",
    "def update(current_state, action, gamma):\n",
    "    # get column index of max q-value \n",
    "    max_index = np.where(Q[action,] == np.max(Q[action,]))[1]\n",
    "\n",
    "    if max_index.shape[0] > 1:\n",
    "        #if multiple choose randomly\n",
    "        max_index = int(np.random.choice(max_index, size=1))\n",
    "    else:\n",
    "        max_index = int(max_index)\n",
    "        \n",
    "    max_value = Q[action, max_index]\n",
    "\n",
    "    \"\"\" Q learning formula\n",
    "    Omits the learning rate and the old value- e.g. so effectively just has a learning rate of 1 (see formula below)    \n",
    "    \"\"\"\n",
    "    Q[current_state, action] = R[current_state, action] + gamma * max_value"
   ]
  },
  {
   "cell_type": "markdown",
   "metadata": {},
   "source": [
    "<img src=\"https://wikimedia.org/api/rest_v1/media/math/render/svg/47fa1e5cf8cf75996a777c11c7b9445dc96d4637\">"
   ]
  },
  {
   "cell_type": "code",
   "execution_count": 34,
   "metadata": {},
   "outputs": [
    {
     "name": "stdout",
     "output_type": "stream",
     "text": [
      "Enter the goal state (0-5) to train with: 5\n",
      "Reward matrix with goal_state 5: \n",
      " [[ -1  -1  -1  -1   0  -1]\n",
      " [ -1  -1  -1   0  -1 100]\n",
      " [ -1  -1  -1   0  -1  -1]\n",
      " [ -1   0   0  -1   0  -1]\n",
      " [  0  -1  -1   0  -1 100]\n",
      " [ -1   0  -1  -1   0 100]]\n",
      "\n",
      "Trained Q values:\n",
      "[[  0.   0.   0.   0. 400.   0.]\n",
      " [  0.   0.   0. 320.   0. 500.]\n",
      " [  0.   0.   0. 320.   0.   0.]\n",
      " [  0. 400. 256.   0. 400.   0.]\n",
      " [320.   0.   0. 320.   0. 500.]\n",
      " [  0. 400.   0.   0. 400. 500.]]\n",
      "\n",
      "Enter starting state (0-5): 2\n",
      "\n",
      "Selected path: [2, 3, 1, 5, 5, 5, 5, 5, 5, 5, 5]\n"
     ]
    }
   ],
   "source": [
    "# Q values\n",
    "Q = np.asmatrix(np.zeros([6, 6]))\n",
    "\n",
    "Q_history =  []\n",
    "\n",
    "# Hyperparameters\n",
    "gamma = 0.8 # discount factor\n",
    "\n",
    "goal_state = int(input(\"Enter the goal state (0-5) to train with: \"))\n",
    "init_reward_matrix(goal_state)\n",
    "\n",
    "\n",
    "# Train - Iteratively improve Q-values so that they indicate optimal actions\n",
    "# Keep choosing a random state and a random action and updating Q-table\n",
    "def train(iterations=1000):\n",
    "    \n",
    "    for i in range(10000):\n",
    "        # random starting state\n",
    "        current_state = np.random.randint(int(Q.shape[0]))\n",
    "\n",
    "        # random next action (state to move to)\n",
    "        available_act = available_actions(current_state)\n",
    "        action = int(np.random.choice(available_act, 1))\n",
    "        \n",
    "        # update Q-values\n",
    "        update(current_state, action, gamma)\n",
    "        np.set_printoptions(precision=3)\n",
    "\n",
    "        Q_history.append({\"Q\": np.copy(Q), \n",
    "                          \"state\": current_state, \n",
    "                          \"action\": action, \n",
    "                          \"reward\" : R[current_state, action]\n",
    "                        })\n",
    "        \n",
    "# ------------------------------\n",
    "# Training\n",
    "train(10000)\n",
    "\n",
    "# Update Q matrix\n",
    "#update(initial_state, action, gamma)\n",
    "\n",
    "np.set_printoptions(precision=3)\n",
    "print(f\"Trained Q values:\\n{Q}\\n\")\n",
    "\n",
    "#print(f\"Train Q values (normalised):\\n{Q / np.max(Q) * 100}\\n\")\n",
    "\n",
    "# ------------------------------\n",
    "# Testing\n",
    "current_state = int(input(\"Enter starting state (0-5): \"))\n",
    "\n",
    "steps = [current_state]\n",
    "\n",
    "if current_state not in range(6) or goal_state not in range(6):\n",
    "    print(\"Error: Invalid states\" )\n",
    "    sys.exit(-1)\n",
    "\n",
    "num_timesteps = 10\n",
    "\n",
    "# Start episode\n",
    "# alternatively: \n",
    "# while current_state != goal_state:\n",
    "while num_timesteps > 0:\n",
    "    \n",
    "    # Explanation: np.where(condition) returns (row, column) indices of the found condition\n",
    "    # we need the maximum Q value -> largest column value in the current states row\n",
    "    # this is because each entry in each row is the cumulative reward for taking the action (column)\n",
    "    # from the current state (row)\n",
    "    next_step_index = np.where(Q[current_state,] == np.max(Q[current_state,]))[1]\n",
    "\n",
    "    if next_step_index.shape[0] > 1:\n",
    "        next_step_index = int(np.random.choice(next_step_index, size=1))\n",
    "    else:\n",
    "        next_step_index = int(next_step_index)\n",
    "\n",
    "    steps.append(next_step_index)\n",
    "    current_state = next_step_index\n",
    "\n",
    "    num_timesteps -= 1\n",
    "    \n",
    "# Print selected sequence of steps\n",
    "print(f\"\\nSelected path: {steps}\")\n",
    "\n"
   ]
  },
  {
   "cell_type": "code",
   "execution_count": 16,
   "metadata": {},
   "outputs": [
    {
     "name": "stdout",
     "output_type": "stream",
     "text": [
      "[[  0.   0.   0.   0. 320.   0.]\n",
      " [  0. 500.   0. 400.   0. 400.]\n",
      " [  0.   0.   0. 400.   0.   0.]\n",
      " [  0. 500. 320.   0. 320.   0.]\n",
      " [256.   0.   0. 400.   0. 400.]\n",
      " [  0. 500.   0.   0. 320.   0.]]\n",
      "Iteration: 10000\n",
      "Random State: 4\n",
      "Random Action: 0\n",
      "Reward: 0\n"
     ]
    }
   ],
   "source": [
    "from IPython.display import clear_output\n",
    "from time import sleep\n",
    "\n",
    "def print_history(dicts):\n",
    "    '''Demonstrates how during training random states with random actions are used \n",
    "    iteratively improve the Q-values, which all eventually converge'''\n",
    "    \n",
    "    for i, frame in enumerate(dicts):\n",
    "        clear_output(wait=True)\n",
    "        print(frame['Q'])\n",
    "        print(f\"Iteration: {i + 1}\")\n",
    "        print(f\"Random State: {frame['state']}\")\n",
    "        print(f\"Random Action: {frame['action']}\")\n",
    "        print(f\"Reward: {frame['reward']}\")\n",
    "        sleep(.1)\n",
    "              \n",
    "\n",
    "print_history(Q_history)"
   ]
  },
  {
   "cell_type": "code",
   "execution_count": 30,
   "metadata": {},
   "outputs": [],
   "source": [
    "network = r\"\"\" \n",
    "    1\n",
    "    | \\\n",
    "2 - 3  5\n",
    "    | /\n",
    "0 - 4\n",
    "\"\"\""
   ]
  },
  {
   "cell_type": "code",
   "execution_count": 31,
   "metadata": {},
   "outputs": [
    {
     "name": "stdout",
     "output_type": "stream",
     "text": [
      " \n",
      "    1\n",
      "    | \\\n",
      "2 - 3  5\n",
      "    | /\n",
      "0 - 4\n",
      "\n"
     ]
    }
   ],
   "source": [
    "print(network)"
   ]
  }
 ],
 "metadata": {
  "kernelspec": {
   "display_name": "Python 3",
   "language": "python",
   "name": "python3"
  },
  "language_info": {
   "codemirror_mode": {
    "name": "ipython",
    "version": 3
   },
   "file_extension": ".py",
   "mimetype": "text/x-python",
   "name": "python",
   "nbconvert_exporter": "python",
   "pygments_lexer": "ipython3",
   "version": "3.7.1"
  }
 },
 "nbformat": 4,
 "nbformat_minor": 2
}
